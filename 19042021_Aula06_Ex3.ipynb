{
 "cells": [
  {
   "cell_type": "code",
   "execution_count": 30,
   "metadata": {},
   "outputs": [
    {
     "data": {
      "image/png": "[encoded data removed]",
      "text/plain": [
       "<Figure size 432x288 with 1 Axes>"
      ]
     },
     "metadata": {
      "needs_background": "light"
     },
     "output_type": "display_data"
    }
   ],
   "source": [
    "####################################################################################################\n",
    "#################### Autor: Alexandre de Resende Camara#############################################\n",
    "#################### Data: 19/04/2021 ##############################################################\n",
    "####################################################################################################\n",
    "#\n",
    "#\n",
    "#\n",
    "####################################################################################################\n",
    "# Início do Código\n",
    "####################################################################################################\n",
    "import math\n",
    "import scipy\n",
    "import numpy as np\n",
    "import matplotlib\n",
    "import matplotlib.pyplot as plt\n",
    "####################################################################################################\n",
    "xs = [48,117,200,240,160,260,220]\n",
    "####################################################################################################\n",
    "x = np.arange(7)\n",
    "plt.title('Diagrama de Barras', fontsize=15)\n",
    "plt.ylabel('Valores da Lista', fontsize=15)\n",
    "plt.bar(x, height = xs, color = \"black\")\n",
    "plt.xticks(x, xs, fontsize=15)\n",
    "plt.tick_params(labelsize=15)\n",
    "plt.show()\n",
    "\n",
    "\n",
    "###################################################################################################\n",
    "# FIM DO CÓDIGO"
   ]
  },
  {
   "cell_type": "code",
   "execution_count": null,
   "metadata": {},
   "outputs": [],
   "source": []
  }
 ],
 "metadata": {
  "kernelspec": {
   "display_name": "Python 3",
   "language": "python",
   "name": "python3"
  },
  "language_info": {
   "codemirror_mode": {
    "name": "ipython",
    "version": 3
   },
   "file_extension": ".py",
   "mimetype": "text/x-python",
   "name": "python",
   "nbconvert_exporter": "python",
   "pygments_lexer": "ipython3",
   "version": "3.8.5"
  }
 },
 "nbformat": 4,
 "nbformat_minor": 4
}
