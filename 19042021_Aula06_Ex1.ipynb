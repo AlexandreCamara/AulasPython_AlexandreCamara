{
 "cells": [
  {
   "cell_type": "code",
   "execution_count": 5,
   "metadata": {},
   "outputs": [],
   "source": [
    "####################################################################################################\n",
    "#################### Autor: Alexandre de Resende Camara#############################################\n",
    "#################### Data: 19/04/2021 ##############################################################\n",
    "####################################################################################################\n",
    "#\n",
    "#\n",
    "#\n",
    "####################################################################################################\n",
    "# Início do Código\n",
    "####################################################################################################\n",
    "import turtle as tess\n",
    "import math\n",
    "####################################################################################################\n",
    "def draw_bar(t, height):\n",
    "    \"\"\" Get turtle t to draw one bar, of height. \"\"\"\n",
    "    t.begin_fill()\n",
    "    t.forward(height)\n",
    "    t.right(90)\n",
    "    t.write(\"  \"+ str(height))\n",
    "    t.forward(40)\n",
    "    t.right(90)\n",
    "    t.forward(height)\n",
    "    t.left(90)\n",
    "    t.end_fill()\n",
    "    t.penup()\n",
    "    t.forward(10)\n",
    "    t.left(90)\n",
    "    t.pendown()\n",
    "    \n",
    "####################################################################################################\n",
    "tess.shape(\"turtle\")\n",
    "tess.color(\"blue\",\"red\")\n",
    "tess.bgcolor(\"pink\")\n",
    "tess.penup() #levantar a caneta\n",
    "tess.goto(-200,0) #mudar posicao de inicio\n",
    "tess.left(90)\n",
    "tess.pendown() #abaixar a caneta\n",
    "\n",
    "xs = [48,117,200,240,160,260,220]\n",
    "\n",
    "for a in xs:\n",
    "    draw_bar(tess, a)\n",
    "###################################################################################################\n",
    "# FIM DO CÓDIGO"
   ]
  },
  {
   "cell_type": "code",
   "execution_count": null,
   "metadata": {},
   "outputs": [],
   "source": []
  }
 ],
 "metadata": {
  "kernelspec": {
   "display_name": "Python 3",
   "language": "python",
   "name": "python3"
  },
  "language_info": {
   "codemirror_mode": {
    "name": "ipython",
    "version": 3
   },
   "file_extension": ".py",
   "mimetype": "text/x-python",
   "name": "python",
   "nbconvert_exporter": "python",
   "pygments_lexer": "ipython3",
   "version": "3.8.5"
  }
 },
 "nbformat": 4,
 "nbformat_minor": 4
}
