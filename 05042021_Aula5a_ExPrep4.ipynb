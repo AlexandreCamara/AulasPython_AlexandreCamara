{
 "cells": [
  {
   "cell_type": "code",
   "execution_count": 12,
   "metadata": {},
   "outputs": [],
   "source": [
    "#############################################################################################################################################\n",
    "#############################################################################################################################################\n",
    "##################################### Autor: Alexandre de Resende Camara ####################################################################\n",
    "##################################### Data: 05/04/2021 ######################################################################################\n",
    "##################################### Nome: Aula 5, Exercício de Preparação 4################################################################\n",
    "#############################################################################################################################################\n",
    "# Escreva uma função chamada circle que toma como argumento uma Turtle, t, e um raio, r, e desenha um círculo aproximado ao chamar a função \n",
    "# polygon com length e número n de lados apropriados. Teste sua função com um intervalo de valores de r. \n",
    "# Dica: Determine a circunferência do círculo e se certifique que comprimento * n = circunferência.\n",
    "#\n",
    "#############################################################################################################################################\n",
    "# INÍCIO DO CÓDIGO\n",
    "#############################################################################################################################################\n",
    "# \n",
    "import turtle \n",
    "#############################################################################################################################################\n",
    "def polygon(t, length, n):\n",
    "    for i in range(n):\n",
    "        t.speed(1)\n",
    "        t.forward(length)\n",
    "        t.left(360/n)\n",
    "#############################################################################################################################################\n",
    "def circle(t, r):\n",
    "    circ = 2 * math.pi * r\n",
    "    n = 200\n",
    "    length = circ / n\n",
    "    polygon (t, length, n)\n",
    "#############################################################################################################################################\n",
    "joana = turtle.Turtle() # Cria uma tartaruga, atribui a t\n",
    "joana.shape(\"turtle\")   # formato de tartaruga.\n",
    "joana.color(\"green\")   \n",
    "#############################################################################################################################################\n",
    "circle(joana,120)\n",
    "#############################################################################################################################################\n",
    "# FIM DO CÓDIGO\n",
    "\n",
    "\n",
    "\n",
    "\n",
    "\n",
    "\n",
    "\n",
    "\n",
    "\n",
    "\n",
    "\n",
    "\n",
    "\n",
    "\n"
   ]
  },
  {
   "cell_type": "code",
   "execution_count": null,
   "metadata": {},
   "outputs": [],
   "source": []
  },
  {
   "cell_type": "code",
   "execution_count": null,
   "metadata": {},
   "outputs": [],
   "source": []
  }
 ],
 "metadata": {
  "kernelspec": {
   "display_name": "Python 3",
   "language": "python",
   "name": "python3"
  },
  "language_info": {
   "codemirror_mode": {
    "name": "ipython",
    "version": 3
   },
   "file_extension": ".py",
   "mimetype": "text/x-python",
   "name": "python",
   "nbconvert_exporter": "python",
   "pygments_lexer": "ipython3",
   "version": "3.8.5"
  }
 },
 "nbformat": 4,
 "nbformat_minor": 4
}
