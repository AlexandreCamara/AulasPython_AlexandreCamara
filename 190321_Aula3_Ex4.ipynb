{
 "cells": [
  {
   "cell_type": "code",
   "execution_count": 12,
   "metadata": {},
   "outputs": [
    {
     "name": "stdout",
     "output_type": "stream",
     "text": [
      "\n",
      "\n",
      "INFORMAÇÕES SOBRE O DESEMPENHO NA CORRIDA:\n",
      "\n",
      "A velocidade média foi de: 12.80 km/h e o tempo médio foi de: 4.69 minutos por km\n"
     ]
    }
   ],
   "source": [
    "#############################################################################################################################################\n",
    "#############################################################################################################################################\n",
    "##################################### Autor: Alexandre de Resende Camara ####################################################################\n",
    "##################################### Data: 19/03/2021 ######################################################################################\n",
    "##################################### Nome: Aula 3, Ex 4 ####################################################################################\n",
    "#############################################################################################################################################\n",
    "# Crie uma função que faça a conversão de uma medida inicialmente em milhas para m, e outra para o inverso; uma de horas para segundos, e o\n",
    "# inverso. Utilize estas funções para resolver novamente o primeiro exercício da semana passada (da corrida). Se uma pessoa demora 30 minutos \n",
    "# em 4 milhas, qual velocidade media em km/h ? e o tempo medio por kilometro?\n",
    "#\n",
    "#############################################################################################################################################\n",
    "# INÍCIO DO CÓDIGO\n",
    "#############################################################################################################################################\n",
    "def km_to_mil(d_km): # função que converte uma distância em km para milhas\n",
    "    d_milhas = d_km/1.6 # d_km em km\n",
    "    return d_milhas\n",
    "#############################################################################################################################################\n",
    "def mil_to_km(d_milhas):\n",
    "    d_km = 1.6*d_milhas\n",
    "    return 1*d_km\n",
    "#############################################################################################################################################\n",
    "def conv_min (t_min):\n",
    "    s = t_min * 60\n",
    "    hora = t_min/60\n",
    "    return hora\n",
    "#############################################################################################################################################\n",
    "def s_to_min (t_seg):\n",
    "    minutos = t_seg / 60\n",
    "    return minutos\n",
    "#############################################################################################################################################\n",
    "def corrida(t_min, d_milhas): #tempo em minutos, distância em milhas.\n",
    "    t = conv_min(t_min)\n",
    "    dist = mil_to_km (d_milhas)\n",
    "    v_m = dist / t\n",
    "    t_med = t_min / dist\n",
    "    print(\"INFORMAÇÕES SOBRE O DESEMPENHO NA CORRIDA:\")\n",
    "    print()\n",
    "    print(\"A velocidade média foi de: {:1.2f}\".format(v_m), \"km/h e o tempo médio foi de: {:1.2f}\".format(t_med), \"minutos por km\")    \n",
    "#############################################################################################################################################\n",
    "km_to_mil(800)\n",
    "print()\n",
    "mil_to_km(500)\n",
    "print()\n",
    "corrida(30,4)\n",
    "#############################################################################################################################################\n",
    "# FIM DO CÓDIGO\n"
   ]
  },
  {
   "cell_type": "code",
   "execution_count": null,
   "metadata": {},
   "outputs": [],
   "source": []
  },
  {
   "cell_type": "code",
   "execution_count": null,
   "metadata": {},
   "outputs": [],
   "source": []
  }
 ],
 "metadata": {
  "kernelspec": {
   "display_name": "Python 3",
   "language": "python",
   "name": "python3"
  },
  "language_info": {
   "codemirror_mode": {
    "name": "ipython",
    "version": 3
   },
   "file_extension": ".py",
   "mimetype": "text/x-python",
   "name": "python",
   "nbconvert_exporter": "python",
   "pygments_lexer": "ipython3",
   "version": "3.8.5"
  }
 },
 "nbformat": 4,
 "nbformat_minor": 4
}
