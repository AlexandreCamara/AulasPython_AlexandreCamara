{
 "cells": [
  {
   "cell_type": "code",
   "execution_count": 27,
   "metadata": {},
   "outputs": [
    {
     "name": "stdout",
     "output_type": "stream",
     "text": [
      "O ângulo zenital é igual a 0.10 rad ou 5.71 graus\n"
     ]
    }
   ],
   "source": [
    "#############################################################################################################################################\n",
    "#############################################################################################################################################\n",
    "##################################### Autor: Alexandre de Resende Camara ####################################################################\n",
    "##################################### Data: 19/03/2021 ######################################################################################\n",
    "##################################### Nome: Aula 3, Ex 3 ####################################################################################\n",
    "#############################################################################################################################################\n",
    "# Crie uma funcão para calcular o ángulo zenital do sol (da semana passada) tomando como argumento as medidas da altura e o comprimento \n",
    "#da sombra.\n",
    "#\n",
    "#############################################################################################################################################\n",
    "# INÍCIO DO CÓDIGO\n",
    "#############################################################################################################################################\n",
    "import math\n",
    "#############################################################################################################################################\n",
    "def ang_zen(): # função ângulo zenital\n",
    "    altura = 5.0 # altura dos poste em metros\n",
    "    sombra = 0.5 # tamanho da sombra, em metros\n",
    "    rad_theta = math.atan(sombra/altura) #cálculo do ângulo zenital em radianos\n",
    "    deg_theta = math.degrees(rad_theta) #conversão do ângulo zenital de rad para graus\n",
    "    print(\"O ângulo zenital é igual a {:1.2f}\".format(rad_theta), \"rad ou {:1.2f}\".format(deg_theta), \"graus\" )\n",
    "#############################################################################################################################################\n",
    "ang_zen()\n",
    "#############################################################################################################################################\n",
    "# FIM DO CÓDIGO\n",
    "\n",
    "\n",
    "\n",
    "\n",
    "\n",
    "\n",
    "\n",
    "\n",
    "\n",
    "\n",
    "\n",
    "\n",
    "\n",
    "\n"
   ]
  },
  {
   "cell_type": "code",
   "execution_count": null,
   "metadata": {},
   "outputs": [],
   "source": []
  }
 ],
 "metadata": {
  "kernelspec": {
   "display_name": "Python 3",
   "language": "python",
   "name": "python3"
  },
  "language_info": {
   "codemirror_mode": {
    "name": "ipython",
    "version": 3
   },
   "file_extension": ".py",
   "mimetype": "text/x-python",
   "name": "python",
   "nbconvert_exporter": "python",
   "pygments_lexer": "ipython3",
   "version": "3.8.5"
  }
 },
 "nbformat": 4,
 "nbformat_minor": 4
}
