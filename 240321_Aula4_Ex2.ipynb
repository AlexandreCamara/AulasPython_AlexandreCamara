{
 "cells": [
  {
   "cell_type": "code",
   "execution_count": 64,
   "metadata": {},
   "outputs": [
    {
     "name": "stdout",
     "output_type": "stream",
     "text": [
      "spam\n",
      "spam\n",
      "spam\n",
      "spam\n",
      "spam\n",
      "spam\n",
      "spam\n",
      "spam\n"
     ]
    }
   ],
   "source": [
    "#############################################################################################################################################\n",
    "#############################################################################################################################################\n",
    "##################################### Autor: Alexandre de Resende Camara ####################################################################\n",
    "##################################### Data: 24/03/2021 ######################################################################################\n",
    "##################################### Nome: Aula 4, Ex 2 ####################################################################################\n",
    "#############################################################################################################################################\n",
    "# Digite este exemplo em um script e teste-o. Modifique do_twice para que sejam necessários dois argumentos, um objeto de função e um valor, \n",
    "# e chame a função duas vezes, passando o valor como um argumento.\n",
    "#\n",
    "# Escreva uma versão mais geral de print_spam, chamada print_twice, que use uma string como parâmetro e imprima duas vezes. Use a versão \n",
    "# modificada de do_twice para chamar print_twice duas vezes, passando 'spam' como um argumento. Defina uma nova função chamada do_four que \n",
    "# recebe um objeto de função e um valor e chama a função quatro vezes, passando o valor como um parâmetro. Deve haver apenas duas declarações\n",
    "# no corpo desta função, não quatro.\n",
    "#\n",
    "#############################################################################################################################################\n",
    "# INÍCIO DO CÓDIGO\n",
    "#############################################################################################################################################\n",
    "def do_twice (func,arg): \n",
    "    func (arg) \n",
    "    func (arg)\n",
    "#############################################################################################################################################\n",
    "def print_twice (palavra):\n",
    "    print(palavra)\n",
    "    print(palavra)\n",
    "#############################################################################################################################################\n",
    "def do_four (arg):\n",
    "    do_twice (print_twice,arg)\n",
    "    do_twice (print_twice,arg)\n",
    "#############################################################################################################################################\n",
    "do_four(\"spam\")\n",
    "#############################################################################################################################################\n",
    "# FIM DO CÓDIGO\n",
    "\n",
    "\n",
    "\n",
    "\n",
    "\n",
    "\n",
    "\n",
    "\n",
    "\n",
    "\n",
    "\n",
    "\n",
    "\n",
    "\n"
   ]
  },
  {
   "cell_type": "code",
   "execution_count": null,
   "metadata": {},
   "outputs": [],
   "source": []
  }
 ],
 "metadata": {
  "kernelspec": {
   "display_name": "Python 3",
   "language": "python",
   "name": "python3"
  },
  "language_info": {
   "codemirror_mode": {
    "name": "ipython",
    "version": 3
   },
   "file_extension": ".py",
   "mimetype": "text/x-python",
   "name": "python",
   "nbconvert_exporter": "python",
   "pygments_lexer": "ipython3",
   "version": "3.8.5"
  }
 },
 "nbformat": 4,
 "nbformat_minor": 4
}
