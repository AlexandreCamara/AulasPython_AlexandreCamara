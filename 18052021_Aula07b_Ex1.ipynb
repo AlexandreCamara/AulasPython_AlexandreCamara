{
 "cells": [
  {
   "cell_type": "code",
   "execution_count": 5,
   "metadata": {},
   "outputs": [],
   "source": [
    "############################################################################################################################################\n",
    "############################################################################################################################################\n",
    "##################################### Autor: Alexandre de Resende Camara ###################################################################\n",
    "##################################### Data: 18/05/2021 #####################################################################################\n",
    "##################################### Nome: Aula 7-b, Exercício 1 ##########################################################################\n",
    "############################################################################################################################################\n",
    "# O módulo time fornece uma função, também chamada time, que devolve a Hora Média de Greenwich na “época”, que é um momento arbitrário usado \n",
    "# como ponto de referência. Em sistemas UNIX, a época é primeiro de janeiro de 1970.\n",
    "#\n",
    "# In [ ]:import time\n",
    "#   time.time()\n",
    "# Out[ ]:\n",
    "# 1602811885.2674031\n",
    "#\n",
    "# Escreva um script que leia a hora atual e a converta em um tempo em horas, minutos e segundos, mais o número de dias desde a época.\n",
    "############################################################################################################################################\n",
    "\n",
    "############################################################################################################################################\n",
    "# Função para criar uma lista de números fornecidas pelo usuário:\n",
    "############################################################################################################################################\n",
    "def script():\n",
    "    dia = int(input(\"Digite o dia desejado\"))\n",
    "    mes = int(input(\"Digite o mes desejado\"))\n",
    "    ano = int(input(\"Digite o ano desejado\"))\n",
    "    hora = int(input(\"Digite a hora desejada\"))\n",
    "    minutos = int(input(\"Digite os minutos desejados\"))\n",
    "    segundos = int(input(\"Digite os segundos desejados\"))\n",
    "   \n",
    "    print()\n",
    "    print(\"Data de referência: 01/01/1970      Horário: 00:00:00\")\n",
    "    print()\n",
    "    print(\"Data escolhida:\",dia,\"/\",mes,\"/\",ano,\"        Horário\",hora,\":\",minutos,\":\",segundos)\n",
    "    print()\n",
    "    \n",
    "    n_anos = ano-1970\n",
    "    n_mes = (12 * n_anos) + mes\n",
    "    n_dias = (365 * n_mes) + dia\n",
    "    n_hora = (24 * n_dias) + hora\n",
    "    n_minutos = (60 * n_hora) + minutos\n",
    "    n_segundos = (60 * n_minutos) + segundos\n",
    "    \n",
    "    print()\n",
    "    print(\"Desde 01/01/1970 foram decorridos:\")\n",
    "    print(n_anos,\"anos ou\")\n",
    "    print(n_mes,\"meses ou\")\n",
    "    print(n_dias,\"dias ou\")\n",
    "    print(n_hora,\"horas ou\")\n",
    "    print(n_minutos,\"minutos ou\")\n",
    "    print(n_segundos,\"segundos.\")\n",
    "#############################################################################################################################################\n",
    "\n",
    "\n",
    "#############################################################################################################################################"
   ]
  },
  {
   "cell_type": "code",
   "execution_count": 6,
   "metadata": {},
   "outputs": [
    {
     "name": "stdin",
     "output_type": "stream",
     "text": [
      "Digite o dia desejado 18\n",
      "Digite o mes desejado 05\n",
      "Digite o ano desejado 2021\n",
      "Digite a hora desejada 09\n",
      "Digite os minutos desejados 21\n",
      "Digite os segundos desejados 00\n"
     ]
    },
    {
     "name": "stdout",
     "output_type": "stream",
     "text": [
      "\n",
      "Data de referência: 01/01/1970      Horário: 00:00:00\n",
      "\n",
      "Data escolhida: 18 / 5 / 2021         Horário 9 : 21 : 0\n",
      "\n",
      "\n",
      "Desde 01/01/1970 foram decorridos:\n",
      "51 anos ou\n",
      "617 meses ou\n",
      "225223 dias ou\n",
      "5405361 horas ou\n",
      "324321681 minutos ou\n",
      "19459300860 segundos.\n"
     ]
    }
   ],
   "source": [
    "script()"
   ]
  },
  {
   "cell_type": "code",
   "execution_count": null,
   "metadata": {},
   "outputs": [],
   "source": []
  }
 ],
 "metadata": {
  "kernelspec": {
   "display_name": "Python 3",
   "language": "python",
   "name": "python3"
  },
  "language_info": {
   "codemirror_mode": {
    "name": "ipython",
    "version": 3
   },
   "file_extension": ".py",
   "mimetype": "text/x-python",
   "name": "python",
   "nbconvert_exporter": "python",
   "pygments_lexer": "ipython3",
   "version": "3.8.5"
  }
 },
 "nbformat": 4,
 "nbformat_minor": 4
}
