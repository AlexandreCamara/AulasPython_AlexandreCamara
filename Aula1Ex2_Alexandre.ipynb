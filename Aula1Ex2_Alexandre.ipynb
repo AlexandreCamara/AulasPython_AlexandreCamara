{
 "cells": [
  {
   "cell_type": "code",
   "execution_count": 5,
   "metadata": {},
   "outputs": [
    {
     "name": "stdout",
     "output_type": "stream",
     "text": [
      "O tempo gasto para a luz chegar ao observador é: 3.430003921637817e-06 s\n",
      "O tempo gasto para som chegar ao observador é: 3.000003430003922 s\n",
      "A distância entre a fonte de luz e o observador é: 1029.0011764913452 s\n"
     ]
    }
   ],
   "source": [
    "#################################################################################################################################\n",
    "#################################################################################################################################\n",
    "##################################### Autor: Alexandre de Resende Camara ########################################################\n",
    "##################################### Data: 04/03/2021 ##########################################################################\n",
    "##################################### Nome: Aula 1, Exercício 2 #################################################################\n",
    "#################################################################################################################################\n",
    "# Desde sua varanda você escuta o som do primeiro fogo artificial do reveillon 3 segundos depois de ver a luz, qual a distância?  \n",
    "# (o som tem velocidade 343 m/s e a luz %$3\\times 10^8$% m/s).\n",
    "##################################################################################################################################\n",
    "# Início do código\n",
    "##################################################################################################################################\n",
    "# Tempo que a luz leva para chegar ao observador:\n",
    "v_som = 343 # velocidade do som em m/s.\n",
    "c = 3 * (10 ** 8) # velocidade da luz em m/s.\n",
    "# S = c*t_luz = v_som * (t_luz+3)\n",
    "t_luz = 3 * v_som / (c - v_som) # tempo que a luz leva para ir da fonte ao observador\n",
    "t_som = t_luz + 3 # tempo que som leva para ir da fonte ao observador\n",
    "##################################################################################################################################\n",
    "# Cálculo da distância da fonte ao observador:\n",
    "s = v_som*t_som\n",
    "##################################################################################################################################\n",
    "# Instruções para o programa:\n",
    "print(\"O tempo gasto para a luz chegar ao observador é:\", t_luz, \"s\")\n",
    "print(\"O tempo gasto para som chegar ao observador é:\", t_som, \"s\")\n",
    "print(\"A distância entre a fonte de luz e o observador é:\", s, \"s\")\n",
    "##################################################################################################################################\n",
    "# Fim do código\n",
    "\n",
    "\n"
   ]
  },
  {
   "cell_type": "code",
   "execution_count": null,
   "metadata": {},
   "outputs": [],
   "source": []
  }
 ],
 "metadata": {
  "kernelspec": {
   "display_name": "Python 3",
   "language": "python",
   "name": "python3"
  },
  "language_info": {
   "codemirror_mode": {
    "name": "ipython",
    "version": 3
   },
   "file_extension": ".py",
   "mimetype": "text/x-python",
   "name": "python",
   "nbconvert_exporter": "python",
   "pygments_lexer": "ipython3",
   "version": "3.8.5"
  }
 },
 "nbformat": 4,
 "nbformat_minor": 4
}
