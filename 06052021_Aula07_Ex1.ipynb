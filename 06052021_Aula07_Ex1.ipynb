{
 "cells": [
  {
   "cell_type": "code",
   "execution_count": 7,
   "metadata": {},
   "outputs": [],
   "source": [
    "############################################################################################################################################\n",
    "############################################################################################################################################\n",
    "##################################### Autor: Alexandre de Resende Camara ###################################################################\n",
    "##################################### Data: 06/05/2021 #####################################################################################\n",
    "##################################### Nome: Aula 7, Exercício 1#############################################################################\n",
    "############################################################################################################################################\n",
    "# A \"Conjectura de Collatz\" diz que \"todos os inteiros positivos irão eventualmente convergir para 1 usando as regras de Collatz\". Faça um\n",
    "# programa que verifique a Conjectura de Collatz para alguns valores. As regras são: Dado um número n, \n",
    "# - Se n for par, divida-o por 2;\n",
    "# - Se n for ímpar, atualize-o para 3*n + 1.\n",
    "############################################################################################################################################\n",
    "def Collatz (n):\n",
    "    while n>1:\n",
    "        print(n)\n",
    "        if n % 2 == 0:       # Se i for um número par (resto da divisão por dois igual a 0)\n",
    "            n = n // 2\n",
    "        elif n % 2 == 1:     # Se i for um número impar (resto da divisão por doi igual a 1)\n",
    "            n = 3*n + 1\n",
    "        else:\n",
    "            if n == 1:\n",
    "                print(n)\n",
    "                break\n",
    "    return n\n",
    "    \n",
    "        \n",
    "#############################################################################################################################################\n",
    "\n",
    "#############################################################################################################################################"
   ]
  },
  {
   "cell_type": "code",
   "execution_count": 13,
   "metadata": {},
   "outputs": [
    {
     "name": "stdout",
     "output_type": "stream",
     "text": [
      "5\n",
      "16\n",
      "8\n",
      "4\n",
      "2\n"
     ]
    },
    {
     "data": {
      "text/plain": [
       "1"
      ]
     },
     "execution_count": 13,
     "metadata": {},
     "output_type": "execute_result"
    }
   ],
   "source": [
    "Collatz(5)"
   ]
  },
  {
   "cell_type": "code",
   "execution_count": null,
   "metadata": {},
   "outputs": [],
   "source": []
  }
 ],
 "metadata": {
  "kernelspec": {
   "display_name": "Python 3",
   "language": "python",
   "name": "python3"
  },
  "language_info": {
   "codemirror_mode": {
    "name": "ipython",
    "version": 3
   },
   "file_extension": ".py",
   "mimetype": "text/x-python",
   "name": "python",
   "nbconvert_exporter": "python",
   "pygments_lexer": "ipython3",
   "version": "3.8.5"
  }
 },
 "nbformat": 4,
 "nbformat_minor": 4
}
