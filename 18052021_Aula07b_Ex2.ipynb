{
 "cells": [
  {
   "cell_type": "code",
   "execution_count": 10,
   "metadata": {},
   "outputs": [],
   "source": [
    "#####################################################################################################################################################\n",
    "#####################################################################################################################################################\n",
    "##################################### Autor: Alexandre de Resende Camara ############################################################################\n",
    "##################################### Data: 18/05/2021 ##############################################################################################\n",
    "##################################### Nome: Aula 7-b, Exercício 2 ###################################################################################\n",
    "#####################################################################################################################################################\n",
    "# 2) O último teorema de Fermat diz que não existem números inteiros a, b e c tais que a**n + b**n == c**n para quaisquer valores de n maiores que 2.\n",
    "#\n",
    "# Escreva uma função chamada check_fermat que receba quatro parâmetros – a, b, c e n – e verifique se o teorema de Fermat se mantém. \n",
    "# Se n for maior que 2 e a**n + b**n == c**n o programa deve imprimir, “Holy smokes, Fermat was wrong!” Senão o programa deve exibir “No, that doesn’t work.”\n",
    "#\n",
    "# Escreva uma função que peça ao usuário para digitar valores para a, b, c e n, os converta em números inteiros e use check_fermat \n",
    "# para verificar se violam o teorema de Fermat.\n",
    "############################################################################################################################################\n",
    "\n",
    "############################################################################################################################################\n",
    "# Função para criar uma lista de números fornecidas pelo usuário:\n",
    "############################################################################################################################################\n",
    "def check_fermat():\n",
    "    a = int(input(\"Digite o valor de a\"))\n",
    "    b = int(input(\"Digite o valor de b\"))\n",
    "    c = int(input(\"Digite o valor de c\"))\n",
    "    n = int(input(\"Digite o valor de n\"))\n",
    "    \n",
    "    if a <= 2  or b <= 2  or c <= 2  or n <= 2:\n",
    "        print()\n",
    "        print(\"Please run the program again and type numbers bigger than 2\")\n",
    "        return\n",
    "    elif n > 2 and ((a ** n) + (b ** n)) == (c ** n):\n",
    "        print()\n",
    "        print(\"Holy smokes, Fermat was wrong!\")\n",
    "        print()\n",
    "    else: \n",
    "        print()\n",
    "        print(\"No, that doesn’t work.\")\n",
    "    \n",
    "#############################################################################################################################################\n",
    "\n",
    "\n",
    "#############################################################################################################################################"
   ]
  },
  {
   "cell_type": "code",
   "execution_count": 13,
   "metadata": {},
   "outputs": [
    {
     "name": "stdin",
     "output_type": "stream",
     "text": [
      "Digite o valor de a 3\n",
      "Digite o valor de b 3\n",
      "Digite o valor de c 3\n",
      "Digite o valor de n 3\n"
     ]
    },
    {
     "name": "stdout",
     "output_type": "stream",
     "text": [
      "\n",
      "No, that doesn’t work.\n"
     ]
    }
   ],
   "source": [
    "check_fermat()"
   ]
  },
  {
   "cell_type": "code",
   "execution_count": null,
   "metadata": {},
   "outputs": [],
   "source": []
  }
 ],
 "metadata": {
  "kernelspec": {
   "display_name": "Python 3",
   "language": "python",
   "name": "python3"
  },
  "language_info": {
   "codemirror_mode": {
    "name": "ipython",
    "version": 3
   },
   "file_extension": ".py",
   "mimetype": "text/x-python",
   "name": "python",
   "nbconvert_exporter": "python",
   "pygments_lexer": "ipython3",
   "version": "3.8.5"
  }
 },
 "nbformat": 4,
 "nbformat_minor": 4
}
