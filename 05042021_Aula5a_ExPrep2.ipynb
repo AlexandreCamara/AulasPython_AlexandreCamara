{
 "cells": [
  {
   "cell_type": "code",
   "execution_count": 11,
   "metadata": {},
   "outputs": [],
   "source": [
    "#############################################################################################################################################\n",
    "#############################################################################################################################################\n",
    "##################################### Autor: Alexandre de Resende Camara ####################################################################\n",
    "##################################### Data: 05/04/2021 ######################################################################################\n",
    "##################################### Nome: Aula 5, Exercício de Preparação 2################################################################\n",
    "#############################################################################################################################################\n",
    "# Escreva uma função chamada square, que toma um parâmetro t, que é uma ColabTurtle. Essa função deve usar o ColabTurtle para desenhar um \n",
    "# quadrado. Escreva uma chamada de função que passe joana como argumento para square e rode o programa novamente.\n",
    "# Adicione um outro parâmetro, chamado length, à função square. Modifique o corpo da função de tal forma que o comprimento dos lados do \n",
    "# quadrado seja length e então modifique a chamada da função para que seja passado o segundo argumento. Rode o programa novamente. \n",
    "# Teste o seu programa com diversos valores para length.\n",
    "#\n",
    "#############################################################################################################################################\n",
    "# INÍCIO DO CÓDIGO\n",
    "#############################################################################################################################################\n",
    "# \n",
    "import turtle   \n",
    "#############################################################################################################################################\n",
    "def square(t, length):\n",
    "    for i in range(4):\n",
    "        t.speed(1)\n",
    "        t.forward(length)\n",
    "        t.left(90)\n",
    "#############################################################################################################################################\n",
    "joana = turtle.Turtle() # Cria uma tartaruga, atribui a t\n",
    "joana.shape(\"turtle\")   # formato de tartaruga.\n",
    "joana.color(\"black\")   \n",
    "#############################################################################################################################################\n",
    "square(joana,400)\n",
    "#############################################################################################################################################\n",
    "# FIM DO CÓDIGO\n",
    "\n",
    "\n",
    "\n",
    "\n",
    "\n",
    "\n",
    "\n",
    "\n",
    "\n",
    "\n",
    "\n",
    "\n",
    "\n",
    "\n"
   ]
  },
  {
   "cell_type": "code",
   "execution_count": null,
   "metadata": {},
   "outputs": [],
   "source": []
  }
 ],
 "metadata": {
  "kernelspec": {
   "display_name": "Python 3",
   "language": "python",
   "name": "python3"
  },
  "language_info": {
   "codemirror_mode": {
    "name": "ipython",
    "version": 3
   },
   "file_extension": ".py",
   "mimetype": "text/x-python",
   "name": "python",
   "nbconvert_exporter": "python",
   "pygments_lexer": "ipython3",
   "version": "3.8.5"
  }
 },
 "nbformat": 4,
 "nbformat_minor": 4
}
