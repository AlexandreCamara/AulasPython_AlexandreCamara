{
 "cells": [
  {
   "cell_type": "code",
   "execution_count": 19,
   "metadata": {},
   "outputs": [
    {
     "name": "stdout",
     "output_type": "stream",
     "text": [
      "[0.0, 0.2, 0.4, 0.6, 0.8, 1.0, 1.2, 1.4, 1.6, 1.8, 2.0, 2.2, 2.4, 2.6, 2.8, 3.0, 3.2, 3.4, 3.6, 3.8, 4.0, 4.2, 4.4, 4.6, 4.8, 5.0]\n",
      "[0, 1, 2, 3, 4, 5, 6, 7, 8, 9, 10, 11, 12, 13, 14, 15, 16, 17, 18, 19, 20, 21, 22, 23, 24, 25]\n"
     ]
    }
   ],
   "source": [
    "#####################################################################################################################################################\n",
    "#####################################################################################################################################################\n",
    "##################################### Autor: Alexandre de Resende Camara ############################################################################\n",
    "##################################### Data: 18/05/2021 ##############################################################################################\n",
    "##################################### Nome: Aula 8b, Exercício 1 ###################################################################################\n",
    "#####################################################################################################################################################\n",
    "\"\"\"O/A mesmo/a atleta no seguinte trecho acelera por $200$ metros até chegar em $15 km/h$ por $2 km$. Queremos obter uma tabela ou gráfico da distância .\n",
    "percorrida em função do tempo e o tempo total para chegar em $7 km$, faça isto utilizando listas.\n",
    "\"\"\"\n",
    "############################################################################################################################################\n",
    "from math import *\n",
    "import matplotlib.pyplot as plt\n",
    "############################################################################################################################################\n",
    "# \n",
    "############################################################################################################################################\n",
    "\"\"\"primeiros 5 km\"\"\"\n",
    "\n",
    "v1 = 12 # em km/h\n",
    "s_max_1 = 5 #em km\n",
    "t_max_1 = (s_max_1/v1)*60 # em min\n",
    "    \n",
    "x1=[]\n",
    "t1=[]\n",
    "for i in range(int(t_max_1)+1):\n",
    "    s = v1*i/60 #em km\n",
    "    t = i\n",
    "    x1.append(s)\n",
    "    t1.append(t)\n",
    "    \n",
    "print(x1)\n",
    "print (t1)\n",
    "\n"
   ]
  },
  {
   "cell_type": "code",
   "execution_count": 22,
   "metadata": {},
   "outputs": [
    {
     "name": "stdout",
     "output_type": "stream",
     "text": [
      "[5.2]\n",
      "[25.88888888888889]\n"
     ]
    }
   ],
   "source": [
    "########################################################################################################################################## \n",
    "\"\"\"TRECHO DE ACELERAÇÃO\"\"\"\n",
    "v2 = 15 # em km/h\n",
    "ds = 0.2 #km\n",
    "a = (v2 **2 - v1 **2)/(2*ds) # em km/h**2\n",
    "dt1 = (v2 - v1)/a      # em h\n",
    "\n",
    "x2=[]   \n",
    "t2=[t_max_1+(60*dt1)]\n",
    "s = 5 + v1*dt1 + (0.5 * a * dt1**2)   #em km\n",
    "x2.append(s)\n",
    "print(x2)\n",
    "print(t2)\n",
    " \n",
    " \n",
    "        \n",
    "##########################################################################################################################################"
   ]
  },
  {
   "cell_type": "code",
   "execution_count": 27,
   "metadata": {},
   "outputs": [
    {
     "name": "stdout",
     "output_type": "stream",
     "text": [
      "[5.2, 5.45, 5.7, 5.95, 6.2, 6.45, 6.7, 6.95]\n",
      "[26.0, 27.0, 28.0, 29.0, 30.0, 31.0, 32.0, 33.0]\n"
     ]
    }
   ],
   "source": [
    "########################################################################################################################################## \n",
    "\"\"\"Segundo trecho constante\"\"\"\n",
    "v2 = 15 # em km/h\n",
    "s_max_2 = 1.8 #em km\n",
    "t_max_2 = (s_max_2/v2)*60 # em min\n",
    "    \n",
    "x3=[]\n",
    "t3=[]\n",
    "for i in range(int(t_max_2)+1):\n",
    "    s = v2*i/60 #em km\n",
    "    t = t_max_1 + 1 + i\n",
    "    x3.append(5.2 + s)\n",
    "    t3.append(t)\n",
    "print(x3)\n",
    "print(t3)\n",
    " \n",
    " \n",
    "        \n",
    "##########################################################################################################################################"
   ]
  },
  {
   "cell_type": "code",
   "execution_count": 14,
   "metadata": {},
   "outputs": [
    {
     "name": "stdout",
     "output_type": "stream",
     "text": [
      "O tempo total para percorrer os 7 km foi de 33.09 minutos\n"
     ]
    }
   ],
   "source": [
    "tempo_total = t_max_1 + (60*dt1) + (t_max_2)\n",
    "print(\"O tempo total para percorrer os 7 km foi de {:1.2f}\".format(tempo_total),\"minutos\")"
   ]
  },
  {
   "cell_type": "code",
   "execution_count": 28,
   "metadata": {},
   "outputs": [
    {
     "name": "stdout",
     "output_type": "stream",
     "text": [
      "posição =  [0.0, 0.2, 0.4, 0.6, 0.8, 1.0, 1.2, 1.4, 1.6, 1.8, 2.0, 2.2, 2.4, 2.6, 2.8, 3.0, 3.2, 3.4, 3.6, 3.8, 4.0, 4.2, 4.4, 4.6, 4.8, 5.0, 5.2, 5.2, 5.45, 5.7, 5.95, 6.2, 6.45, 6.7, 6.95]\n",
      "tempo =  [0, 1, 2, 3, 4, 5, 6, 7, 8, 9, 10, 11, 12, 13, 14, 15, 16, 17, 18, 19, 20, 21, 22, 23, 24, 25, 25.88888888888889, 26.0, 27.0, 28.0, 29.0, 30.0, 31.0, 32.0, 33.0]\n"
     ]
    }
   ],
   "source": [
    "posição = []\n",
    "posição.extend(x1)\n",
    "posição.extend(x2)\n",
    "posição.extend(x3)\n",
    "\n",
    "tempo = []\n",
    "tempo.extend(t1)\n",
    "tempo.extend(t2)\n",
    "tempo.extend(t3)\n",
    "\n",
    "print(\"posição = \",posição)\n",
    "print(\"tempo = \",tempo)"
   ]
  },
  {
   "cell_type": "code",
   "execution_count": 35,
   "metadata": {},
   "outputs": [
    {
     "data": {
      "image/png": "[encoded data removed]",
      "text/plain": [
       "<Figure size 1080x720 with 1 Axes>"
      ]
     },
     "metadata": {
      "needs_background": "light"
     },
     "output_type": "display_data"
    }
   ],
   "source": [
    "\"\"\" PARTE GRÁFICA\"\"\"\n",
    "plt.plot(tempo,posição)\n",
    "plt.xlabel(\"tempo (min)\",fontsize=15)\n",
    "plt.ylabel(\"posição (km)\",fontsize=15)\n",
    "\n",
    "plt.grid(False)\n",
    "plt.xlim(0, tempo_total)\n",
    "plt.ylim()\n",
    "plt.xticks(fontsize=15)\n",
    "plt.yticks(fontsize=15)\n",
    "plt.rcParams['figure.figsize'] = (15,10)\n",
    "plt.show()   "
   ]
  },
  {
   "cell_type": "code",
   "execution_count": null,
   "metadata": {},
   "outputs": [],
   "source": []
  }
 ],
 "metadata": {
  "kernelspec": {
   "display_name": "Python 3",
   "language": "python",
   "name": "python3"
  },
  "language_info": {
   "codemirror_mode": {
    "name": "ipython",
    "version": 3
   },
   "file_extension": ".py",
   "mimetype": "text/x-python",
   "name": "python",
   "nbconvert_exporter": "python",
   "pygments_lexer": "ipython3",
   "version": "3.8.5"
  }
 },
 "nbformat": 4,
 "nbformat_minor": 4
}
