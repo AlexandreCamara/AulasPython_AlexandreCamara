{
 "cells": [
  {
   "cell_type": "code",
   "execution_count": 2,
   "metadata": {},
   "outputs": [
    {
     "name": "stdout",
     "output_type": "stream",
     "text": [
      "CÁLCULO DO IMC:\n",
      "O seu IMC é 26.57 kg/m^2\n",
      "\n",
      "VOLUME DA ESFERA DE RAIO = 5\n",
      "O volume da esfera é : 523.60 m^3\n",
      "\n",
      "SEPARAÇÃO ENTRE MÁXIMOS CONSECUTIVOS:\n",
      "A separação entre os máximos consecutivos é: delta_y = 0.01 m\n",
      "\n"
     ]
    }
   ],
   "source": [
    "#############################################################################################################################################\n",
    "#############################################################################################################################################\n",
    "##################################### Autor: Alexandre de Resende Camara ####################################################################\n",
    "##################################### Data: 19/03/2021 ######################################################################################\n",
    "##################################### Nome: Aula 3, Ex 4 ####################################################################################\n",
    "#############################################################################################################################################\n",
    "# Crie funções para calcular os outros exemplos das aulas anteriores: IMC, volume de uma esfera, distancia entre pontos de máximos \n",
    "# de difração. Decida quais serão os argumentos e o valor retornado.\n",
    "#\n",
    "#############################################################################################################################################\n",
    "# INÍCIO DO CÓDIGO\n",
    "#############################################################################################################################################\n",
    "import math\n",
    "#############################################################################################################################################\n",
    "def IMC(massa, altura): # bloco de instruções para calcular o IMC de uma pessoa\n",
    "    x = (massa/altura**2) # imc. massa em kg, altura em metros\n",
    "    print(\"CÁLCULO DO IMC:\")\n",
    "    print(\"O seu IMC é {:1.2f}\".format(x), \"kg/m^2\")\n",
    "    print()\n",
    "#############################################################################################################################################\n",
    "def volume_esf(R):\n",
    "    vol_esf = (4.0/3.0)*math.pi*(R**3) #raio em metros\n",
    "    print(\"VOLUME DA ESFERA DE RAIO =\", R)\n",
    "    print(\"O volume da esfera é : {:1.2f}\".format(vol_esf), \"m^3\")\n",
    "    print()\n",
    "#############################################################################################################################################\n",
    "def sep(lda, D, d):\n",
    "    Delta_y = (lda*D)/d #lda em metros, D em metros e d em metros\n",
    "    print(\"SEPARAÇÃO ENTRE MÁXIMOS CONSECUTIVOS:\")\n",
    "    print(\"A separação entre os máximos consecutivos é: delta_y = {:1.2f}\".format(Delta_y), \"m\")\n",
    "    print()\n",
    "#############################################################################################################################################\n",
    "IMC(75, 1.68)\n",
    "volume_esf(5)\n",
    "sep(632.8e-9, 1.98, 0.250e-3)\n",
    "#############################################################################################################################################\n",
    "# FIM DO CÓDIGO\n"
   ]
  },
  {
   "cell_type": "code",
   "execution_count": null,
   "metadata": {},
   "outputs": [],
   "source": []
  }
 ],
 "metadata": {
  "kernelspec": {
   "display_name": "Python 3",
   "language": "python",
   "name": "python3"
  },
  "language_info": {
   "codemirror_mode": {
    "name": "ipython",
    "version": 3
   },
   "file_extension": ".py",
   "mimetype": "text/x-python",
   "name": "python",
   "nbconvert_exporter": "python",
   "pygments_lexer": "ipython3",
   "version": "3.8.5"
  }
 },
 "nbformat": 4,
 "nbformat_minor": 4
}
