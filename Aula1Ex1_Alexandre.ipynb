{
 "cells": [
  {
   "cell_type": "code",
   "execution_count": 1,
   "metadata": {},
   "outputs": [
    {
     "name": "stdout",
     "output_type": "stream",
     "text": [
      "A distância percorrida em milhas é: 6.211180124223602 milhas\n",
      "O tempo médio gasto por milha é: 7.003500000000001 minutos\n"
     ]
    }
   ],
   "source": [
    "#########################################################################################################################\n",
    "#########################################################################################################################\n",
    "##################################### Autor: Alexandre de Resende Camara ################################################\n",
    "##################################### Data: 04/03/2021 ##################################################################\n",
    "##################################### Nome: Aula 1, Exercício 1 #########################################################\n",
    "#########################################################################################################################\n",
    "# Se você fizer uma corrida de 10 quilômetros em 43 minutos e 30 segundos, qual será seu tempo médio por milha? \n",
    "# Qual é a sua velocidade média em milhas por hora? (Dica: há 1,61 quilômetros em uma milha).\n",
    "##########################################################################################################################\n",
    "# Início do código\n",
    "##########################################################################################################################\n",
    "# Tempo médio por milha:\n",
    "milhas = 10.0/1.61 # Conversão da distância de km para milhas.\n",
    "tmedio = 43.5/milhas # quantidade de minutos para percorrer 1 milha.\n",
    "##########################################################################################################################\n",
    "# Instruções para o programa:\n",
    "print(\"A distância percorrida em milhas é:\", milhas, \"milhas\")\n",
    "print(\"O tempo médio gasto por milha é:\", tmedio, \"minutos\")\n",
    "##########################################################################################################################\n",
    "# Fim do código\n",
    "\n",
    "\n"
   ]
  },
  {
   "cell_type": "code",
   "execution_count": null,
   "metadata": {},
   "outputs": [],
   "source": []
  }
 ],
 "metadata": {
  "kernelspec": {
   "display_name": "Python 3",
   "language": "python",
   "name": "python3"
  },
  "language_info": {
   "codemirror_mode": {
    "name": "ipython",
    "version": 3
   },
   "file_extension": ".py",
   "mimetype": "text/x-python",
   "name": "python",
   "nbconvert_exporter": "python",
   "pygments_lexer": "ipython3",
   "version": "3.8.5"
  }
 },
 "nbformat": 4,
 "nbformat_minor": 4
}
