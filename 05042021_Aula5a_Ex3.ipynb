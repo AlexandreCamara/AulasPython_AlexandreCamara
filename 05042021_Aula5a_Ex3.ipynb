{
 "cells": [
  {
   "cell_type": "code",
   "execution_count": 11,
   "metadata": {},
   "outputs": [
    {
     "name": "stdout",
     "output_type": "stream",
     "text": [
      "Olá! Eu sou Leonardo! Digite a cor que deseja que eu apareça. \n",
      "\n",
      " Lista de cores: black, yellow, blue, gray, green, peach puff, HotPink\n"
     ]
    },
    {
     "name": "stdin",
     "output_type": "stream",
     "text": [
      "cor yellow\n"
     ]
    },
    {
     "name": "stdout",
     "output_type": "stream",
     "text": [
      "Mude a cor com a qual eu apareço. Diga também a nova grossura da linha desenhada (digtar um número entre 1 e 10)\n",
      "\n",
      " Lista de cores: black, yellow, blue, gray, green, peach puff, HotPink\n"
     ]
    },
    {
     "name": "stdin",
     "output_type": "stream",
     "text": [
      "cor peach puff\n",
      "grossura 7\n"
     ]
    },
    {
     "data": {
      "text/plain": [
       "turtle.Turtle"
      ]
     },
     "execution_count": 11,
     "metadata": {},
     "output_type": "execute_result"
    }
   ],
   "source": [
    "#############################################################################################################################################\n",
    "#############################################################################################################################################\n",
    "##################################### Autor: Alexandre de Resende Camara ####################################################################\n",
    "##################################### Data: 05/04/2021 ######################################################################################\n",
    "##################################### Nome: Aula 5, Exercício 3 #########################################################################\n",
    "#############################################################################################################################################\n",
    "# Faça modificações similares para permitir que o usuário mude a cor da tartaruga durante a execução do programa.\n",
    "# desejada. Ele deve armazenar as respostas do usuário em uma variável e modificar a cor da janela de acordo com os desejos do usuário.\n",
    "#\n",
    "#############################################################################################################################################\n",
    "# INÍCIO DO CÓDIGO\n",
    "#############################################################################################################################################\n",
    "# \n",
    "import turtle   \n",
    "#############################################################################################################################################\n",
    "print(\"Olá! Eu sou Leonardo! Digite a cor que deseja que eu apareça. \")\n",
    "print()\n",
    "print(\" Lista de cores: black, yellow, blue, gray, green, peach puff, HotPink\")\n",
    "color1 = input(\"cor\")\n",
    "\n",
    "\n",
    "leonardo = turtle.Turtle() # Cria uma tartaruga, atribui a leonardo\n",
    "leonardo.shape(\"turtle\")   # formato de tartaruga.\n",
    "leonardo.color(color1)\n",
    "\n",
    "leonardo.forward(300)\n",
    "leonardo.left(90)\n",
    "\n",
    "print(\"Mude a cor com a qual eu apareço. Diga também a nova grossura da linha desenhada (digtar um número entre 1 e 10)\")\n",
    "print()\n",
    "print(\" Lista de cores: black, yellow, blue, gray, green, peach puff, HotPink\")\n",
    "color2 = input(\"cor\")\n",
    "size = input(\"grossura\")\n",
    "leonardo.color(color2)\n",
    "leonardo.width(size)\n",
    "\n",
    "leonardo.forward(300)\n",
    "#############################################################################################################################################\n",
    "type(leonardo)\n",
    "#############################################################################################################################################\n",
    "# FIM DO CÓDIGO\n",
    "\n",
    "\n",
    "\n",
    "\n",
    "\n",
    "\n",
    "\n",
    "\n",
    "\n",
    "\n",
    "\n",
    "\n",
    "\n",
    "\n"
   ]
  },
  {
   "cell_type": "code",
   "execution_count": null,
   "metadata": {},
   "outputs": [],
   "source": []
  }
 ],
 "metadata": {
  "kernelspec": {
   "display_name": "Python 3",
   "language": "python",
   "name": "python3"
  },
  "language_info": {
   "codemirror_mode": {
    "name": "ipython",
    "version": 3
   },
   "file_extension": ".py",
   "mimetype": "text/x-python",
   "name": "python",
   "nbconvert_exporter": "python",
   "pygments_lexer": "ipython3",
   "version": "3.8.5"
  }
 },
 "nbformat": 4,
 "nbformat_minor": 4
}
