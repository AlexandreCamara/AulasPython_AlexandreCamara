{
 "cells": [
  {
   "cell_type": "code",
   "execution_count": 76,
   "metadata": {},
   "outputs": [],
   "source": [
    "############################################################################################################################################\n",
    "############################################################################################################################################\n",
    "##################################### Autor: Alexandre de Resende Camara ###################################################################\n",
    "##################################### Data: 06/05/2021 #####################################################################################\n",
    "##################################### Nome: Aula 7, Exercício 3#############################################################################\n",
    "############################################################################################################################################\n",
    "# Encapsule e generalize a seguinte declaração:\n",
    "#\n",
    "# for i in [12, 16, 17, 24, 29]:\n",
    "#    if i % 2 == 1:  # If the number is odd\n",
    "#       break        #  ... immediately exit the loop\n",
    "#    print(i)\n",
    "# print(\"done\")\n",
    "############################################################################################################################################\n",
    "\n",
    "############################################################################################################################################\n",
    "# Função para criar uma lista de números fornecidas pelo usuário:\n",
    "############################################################################################################################################\n",
    "def lista_num():\n",
    "    \"\"\" As informações dadas pelo usuário serão armazenadas na variável \"a\" \"\"\"\n",
    "    \n",
    "    a = input(\"Digite uma lista de números separados por vírgulas\")\n",
    "    \n",
    "    \"\"\" GERANDO A LISTA A PARTIR DAS INFORMAÇÕES DIGITADAS NO TECLADO:\"\"\"\n",
    "    \n",
    "    lista = a.split(',')               \n",
    "  \n",
    "    \"\"\"\n",
    "    Inicialmente, a lista tem elementos tipo \"string\". Para este perograma, é necessário converter o tipo de cada elemento da lista gerada para\n",
    "    \"inteiro\". Para isso, utiliza-se o comando abaixo:\n",
    "    \"\"\" \n",
    "    for n in range(len(lista)):\n",
    "        lista[n] = float(lista[n])\n",
    "        \n",
    "    \"\"\" A função lista_num() deverá retornar a lista gerada.\"\"\"\n",
    "    return lista\n",
    "#############################################################################################################################################\n",
    "#lista_num()\n",
    "\n",
    "#############################################################################################################################################"
   ]
  },
  {
   "cell_type": "code",
   "execution_count": 77,
   "metadata": {},
   "outputs": [],
   "source": [
    "def num_par():\n",
    "    \"\"\" A FUNÇÃO num_par() COMEÇA SUA EXECUÇÃO CHAMANDO A LISTA GERADA EM lista_num() \"\"\"\n",
    "    lista = lista_num()\n",
    "    print(lista)\n",
    "    \n",
    "    \"\"\" AGORA, ELA FARÁ A DIVISÃO DE CADA ELEMENTO DA LISTA POR 2 E COMPARARÁ O RESTO DESSA DIVISÃO COM 1. SE FOR 1, IRÁ IMPRIMIR O VALOR DO ELEMENTO DA LISTA, SE FOR DIFERENTE DE 1,\n",
    "    A EXECUÇÃO DO LOOP SERÁ INTERROMPIDA E NENHUM DOS ELEMENTOS SEGUINTES SERÁ IMPRESSO NA TELA DO COMPUTADOR\"\"\"\n",
    "    for i in lista:\n",
    "        if i % 2 == 1:  # If the number is odd\n",
    "           break        #  ... immediately exit the loop\n",
    "        print(i)\n",
    "    print(\"done\")"
   ]
  },
  {
   "cell_type": "code",
   "execution_count": 78,
   "metadata": {},
   "outputs": [
    {
     "name": "stdin",
     "output_type": "stream",
     "text": [
      "Digite uma lista de números separados por vírgulas 10,20,33,42,59,67\n"
     ]
    },
    {
     "name": "stdout",
     "output_type": "stream",
     "text": [
      "[10.0, 20.0, 33.0, 42.0, 59.0, 67.0]\n",
      "10.0\n",
      "20.0\n",
      "done\n"
     ]
    }
   ],
   "source": [
    "#lista_num()\n",
    "num_par()"
   ]
  },
  {
   "cell_type": "code",
   "execution_count": null,
   "metadata": {},
   "outputs": [],
   "source": []
  }
 ],
 "metadata": {
  "kernelspec": {
   "display_name": "Python 3",
   "language": "python",
   "name": "python3"
  },
  "language_info": {
   "codemirror_mode": {
    "name": "ipython",
    "version": 3
   },
   "file_extension": ".py",
   "mimetype": "text/x-python",
   "name": "python",
   "nbconvert_exporter": "python",
   "pygments_lexer": "ipython3",
   "version": "3.8.5"
  }
 },
 "nbformat": 4,
 "nbformat_minor": 4
}
