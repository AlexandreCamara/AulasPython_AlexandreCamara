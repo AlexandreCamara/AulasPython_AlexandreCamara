{
 "cells": [
  {
   "cell_type": "code",
   "execution_count": 6,
   "metadata": {},
   "outputs": [
    {
     "name": "stdout",
     "output_type": "stream",
     "text": [
      "O custo total é de R$ 945.45\n"
     ]
    }
   ],
   "source": [
    "#################################################################################################################################\n",
    "#################################################################################################################################\n",
    "##################################### Autor: Alexandre de Resende Camara ########################################################\n",
    "##################################### Data: 08/03/2021 ##########################################################################\n",
    "##################################### Nome: Aula 1, Exercício 3 #################################################################\n",
    "#################################################################################################################################\n",
    "# Suponha que o preço de um livro seja 24.95 reais, porém as livrarias têm desconto de 40%. Os custos de envio são de 3.00 reais\n",
    "# para o primeiro livro e 0.75 reais para os livros adicionais. Qual é o custo total da compra de 60 livros?\n",
    "##################################################################################################################################\n",
    "# Início do código\n",
    "##################################################################################################################################\n",
    "# Constantes\n",
    "livro = 24.95 # preço do livro em reais.\n",
    "desconto = 0.4 # 40% de desconto no preço do livro para livrarias\n",
    "env1 = 3.0 #taxa de envio do primeiro livro, em reais\n",
    "env2 = 0.75 #taxa de envio a partir do segundo livro, em reais\n",
    "N = 60 # total de livros\n",
    "#################################################################################################################################\n",
    "#Cálculo do custo total:\n",
    "custo_l = N*livro*(1-desconto) # custo dos 60 livros\n",
    "custo_e = 1*env1 + (N-1)*env2 # custo total de envio\n",
    "custo_t = custo_l + custo_e\n",
    "##################################################################################################################################\n",
    "# Instruções para o programa:\n",
    "print(\"O custo total é de R$ {:1.2f}\".format(custo_t))\n",
    "##################################################################################################################################\n",
    "# Fim do código\n",
    "\n",
    "\n"
   ]
  },
  {
   "cell_type": "code",
   "execution_count": null,
   "metadata": {},
   "outputs": [],
   "source": []
  },
  {
   "cell_type": "code",
   "execution_count": null,
   "metadata": {},
   "outputs": [],
   "source": []
  }
 ],
 "metadata": {
  "kernelspec": {
   "display_name": "Python 3",
   "language": "python",
   "name": "python3"
  },
  "language_info": {
   "codemirror_mode": {
    "name": "ipython",
    "version": 3
   },
   "file_extension": ".py",
   "mimetype": "text/x-python",
   "name": "python",
   "nbconvert_exporter": "python",
   "pygments_lexer": "ipython3",
   "version": "3.8.5"
  }
 },
 "nbformat": 4,
 "nbformat_minor": 4
}
