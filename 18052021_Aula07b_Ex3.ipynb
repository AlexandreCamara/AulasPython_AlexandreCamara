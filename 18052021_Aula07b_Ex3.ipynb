{
 "cells": [
  {
   "cell_type": "code",
   "execution_count": 10,
   "metadata": {},
   "outputs": [],
   "source": [
    "#####################################################################################################################################################\n",
    "#####################################################################################################################################################\n",
    "##################################### Autor: Alexandre de Resende Camara ############################################################################\n",
    "##################################### Data: 18/05/2021 ##############################################################################################\n",
    "##################################### Nome: Aula 7-b, Exercício 3 ###################################################################################\n",
    "#####################################################################################################################################################\n",
    "# 3) Há um teste simples para ver se é possível formar um triângulo para quaisquer três comprimentos: Se algum dos três comprimentos for maior que a \n",
    "# soma dos outros dois, então você não pode formar um triângulo. Senão, você pode. (Se a soma de dois comprimentos igualar o terceiro, eles formam um \n",
    "#                                                                                  triângulo chamado “degenerado”.)\n",
    "#\n",
    "# Escreva uma função chamada is_triangle que receba três números inteiros como argumentos, e que imprima “Yes” ou “No”, dependendo da possibilidade de \n",
    "# formar ou não um triângulo de gravetos com os comprimentos dados.\n",
    "# Escreva uma função que peça ao usuário para digitar três comprimentos de gravetos, os converta em números inteiros e use is_triangle para verificar \n",
    "# se os gravetos com os comprimentos dados podem formar um triângulo.\n",
    "############################################################################################################################################\n",
    "\n",
    "############################################################################################################################################\n",
    "# Função para criar uma lista de números fornecidas pelo usuário:\n",
    "############################################################################################################################################\n",
    "def is_triangle():\n",
    "    print(\"Vamos descobrir se é ou não possível formar um triângulo com os seguimentos de tamanhos a, b e c.\")\n",
    "    print()\n",
    "    a = int(input(\"Digite o valor de a\"))\n",
    "    b = int(input(\"Digite o valor de b\"))\n",
    "    c = int(input(\"Digite o valor de c\"))\n",
    "    \n",
    "    \n",
    "    if a > b+c  or b > a+c  or c > b+a:\n",
    "        print()\n",
    "        print(\"NÃO É POSSÍVEL FORMAR UM TRIÂNGULO\")\n",
    "        \n",
    "    elif a == b+c  or b == a+c  or c == b+a:\n",
    "        print()\n",
    "        print(\"TRIÂNGULO DEGENERADO!\")\n",
    "        print()\n",
    "    else: \n",
    "        print()\n",
    "        print(\"SIM, É POSSÍVEL FORMAR UM TRIÂNGULO.\")\n",
    "    \n",
    "#############################################################################################################################################\n",
    "\n",
    "\n",
    "#############################################################################################################################################"
   ]
  },
  {
   "cell_type": "code",
   "execution_count": 15,
   "metadata": {},
   "outputs": [
    {
     "name": "stdout",
     "output_type": "stream",
     "text": [
      "Vamos descobrir se é ou não possível formar um triângulo com os seguimentos de tamanhos a, b e c.\n",
      "\n"
     ]
    },
    {
     "name": "stdin",
     "output_type": "stream",
     "text": [
      "Digite o valor de a 2\n",
      "Digite o valor de b 4\n",
      "Digite o valor de c 2\n"
     ]
    },
    {
     "name": "stdout",
     "output_type": "stream",
     "text": [
      "\n",
      "TRIÂNGULO DEGENERADO!\n",
      "\n"
     ]
    }
   ],
   "source": [
    "is_triangle()"
   ]
  },
  {
   "cell_type": "code",
   "execution_count": null,
   "metadata": {},
   "outputs": [],
   "source": []
  }
 ],
 "metadata": {
  "kernelspec": {
   "display_name": "Python 3",
   "language": "python",
   "name": "python3"
  },
  "language_info": {
   "codemirror_mode": {
    "name": "ipython",
    "version": 3
   },
   "file_extension": ".py",
   "mimetype": "text/x-python",
   "name": "python",
   "nbconvert_exporter": "python",
   "pygments_lexer": "ipython3",
   "version": "3.8.5"
  }
 },
 "nbformat": 4,
 "nbformat_minor": 4
}
