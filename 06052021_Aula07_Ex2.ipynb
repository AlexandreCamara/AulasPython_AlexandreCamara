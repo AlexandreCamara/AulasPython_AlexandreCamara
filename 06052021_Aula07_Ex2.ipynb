{
 "cells": [
  {
   "cell_type": "code",
   "execution_count": 34,
   "metadata": {},
   "outputs": [
    {
     "name": "stdout",
     "output_type": "stream",
     "text": [
      "Número de dígitos 0 ou 5 =  2\n"
     ]
    },
    {
     "data": {
      "text/plain": [
       "2"
      ]
     },
     "execution_count": 34,
     "metadata": {},
     "output_type": "execute_result"
    }
   ],
   "source": [
    "############################################################################################################################################\n",
    "############################################################################################################################################\n",
    "##################################### Autor: Alexandre de Resende Camara ###################################################################\n",
    "##################################### Data: 06/05/2021 #####################################################################################\n",
    "##################################### Nome: Aula 7, Exercício 2#############################################################################\n",
    "############################################################################################################################################\n",
    "# Modifique a função Counter para contar o número de dígitos 0 e 5 que aparecem em um determinado número n.\n",
    "# Por exemplo, n = 10568 tem dois dígitos 0 ou 5\n",
    "############################################################################################################################################\n",
    "def counter (n):\n",
    "    count = 0\n",
    "    while n!=0:\n",
    "        if n % 10 == 0:\n",
    "            count = count + 1  # O número de divisões inteiras por 10 dará o número de dígitos\n",
    "        elif n % 10 == 5:\n",
    "            count = count + 1\n",
    "        n = n // 10\n",
    "    print(\"Número de dígitos 0 ou 5 = \", count)\n",
    "    return count\n",
    "    \n",
    "#############################################################################################################################################\n",
    "counter(10568)\n",
    "#############################################################################################################################################"
   ]
  },
  {
   "cell_type": "code",
   "execution_count": null,
   "metadata": {},
   "outputs": [],
   "source": []
  }
 ],
 "metadata": {
  "kernelspec": {
   "display_name": "Python 3",
   "language": "python",
   "name": "python3"
  },
  "language_info": {
   "codemirror_mode": {
    "name": "ipython",
    "version": 3
   },
   "file_extension": ".py",
   "mimetype": "text/x-python",
   "name": "python",
   "nbconvert_exporter": "python",
   "pygments_lexer": "ipython3",
   "version": "3.8.5"
  }
 },
 "nbformat": 4,
 "nbformat_minor": 4
}
