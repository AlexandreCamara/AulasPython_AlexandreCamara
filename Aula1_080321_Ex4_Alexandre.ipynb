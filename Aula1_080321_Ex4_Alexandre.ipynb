{
 "cells": [
  {
   "cell_type": "code",
   "execution_count": 14,
   "metadata": {},
   "outputs": [
    {
     "name": "stdout",
     "output_type": "stream",
     "text": [
      "A distância entre dois máximos consecutivos: 0.0050 m ou 5.0 mm\n"
     ]
    }
   ],
   "source": [
    "#################################################################################################################################\n",
    "#################################################################################################################################\n",
    "##################################### Autor: Alexandre de Resende Camara ########################################################\n",
    "##################################### Data: 08/03/2021 ##########################################################################\n",
    "##################################### Nome: Aula 1, Exercício 2 #################################################################\n",
    "#################################################################################################################################\n",
    "# Um laser vermelho (com comprimento de onda $\\lambda = 632.8$ nm) incide em uma fenda dupla produzindo um padrão de interferência\n",
    "#com franjas claras e escuras, em um anteparo situado a uma distância D = 1.98 m da fenda. Calcule a distância $\\Delta y$ entre \n",
    "#dois máximos consecutivos de interferência. Considere o espaçamento entre as fendas, $d$, como sendo igual a 0.250 mm. \n",
    "#Dica: a distância entre dois máximos de interferência consecutivos pode ser aproximada por $\\Delta y = \\frac{\\lambda D}{d}$.\n",
    "##################################################################################################################################\n",
    "# Início do código\n",
    "##################################################################################################################################\n",
    "import math\n",
    "##################################################################################################################################\n",
    "# Constantes\n",
    "lda = 632.8e-9 # comprimento de onda da fonte, em m\n",
    "D = 1.98 #distância do antepar à fonte, em m\n",
    "d = 0.250e-3 # separação entre as fendas, em m\n",
    "#################################################################################################################################\n",
    "#Cálculo da distância entre dois máximos consecutivos:\n",
    "Delta_y = (lda*D)/d\n",
    "##################################################################################################################################\n",
    "# Instruções para o programa:\n",
    "print(\"A distância entre dois máximos consecutivos: {:1.4f}\".format(Delta_y), \"m ou {:1.1f}\".format(Delta_y*1000),\"mm\")\n",
    "##################################################################################################################################\n",
    "# Fim do código\n",
    "\n",
    "\n"
   ]
  },
  {
   "cell_type": "code",
   "execution_count": null,
   "metadata": {},
   "outputs": [],
   "source": []
  },
  {
   "cell_type": "code",
   "execution_count": null,
   "metadata": {},
   "outputs": [],
   "source": []
  }
 ],
 "metadata": {
  "kernelspec": {
   "display_name": "Python 3",
   "language": "python",
   "name": "python3"
  },
  "language_info": {
   "codemirror_mode": {
    "name": "ipython",
    "version": 3
   },
   "file_extension": ".py",
   "mimetype": "text/x-python",
   "name": "python",
   "nbconvert_exporter": "python",
   "pygments_lexer": "ipython3",
   "version": "3.8.5"
  }
 },
 "nbformat": 4,
 "nbformat_minor": 4
}
