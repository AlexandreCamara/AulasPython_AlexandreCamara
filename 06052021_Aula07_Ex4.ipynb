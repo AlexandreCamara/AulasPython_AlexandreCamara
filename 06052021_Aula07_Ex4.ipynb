{
 "cells": [
  {
   "cell_type": "code",
   "execution_count": 41,
   "metadata": {},
   "outputs": [],
   "source": [
    "############################################################################################################################################\n",
    "############################################################################################################################################\n",
    "##################################### Autor: Alexandre de Resende Camara ###################################################################\n",
    "##################################### Data: 06/05/2021 #####################################################################################\n",
    "##################################### Nome: Aula 7, Exercício 4#############################################################################\n",
    "############################################################################################################################################\n",
    "# O método de Newton para raiz quadrada. Suponha que você queira calcular a raiz quadrada de n. Se você começar com quase qualquer \n",
    "# aproximação, poderá calcular uma aproximação melhor (mais próxima da resposta real) com a seguinte fórmula: melhor = (approx + n/approx)/2\n",
    "#\n",
    "# Usando um loop e repetindo esta fórmula até que a melhor aproximação se aproxime o suficiente da anterior (podemos considerar uma diferença\n",
    "# de 0,001), podemos escrever uma função para calcular a raiz quadrada.\n",
    "# \n",
    "# Esse é um exemplo de repetição indefinida. Com qual tipo de loop você deve escrever o seu programa?\n",
    "############################################################################################################################################\n",
    "\n",
    "############################################################################################################################################\n",
    "# Função para criar uma lista de números fornecidas pelo usuário:\n",
    "############################################################################################################################################\n",
    "def raiz_quadrada(n,max_dif):\n",
    "    aprox = n/2.0\n",
    "    while True:\n",
    "        melhor = (aprox + n/aprox)/2\n",
    "        dif = abs(aprox-melhor)\n",
    "        if dif <= max_dif:\n",
    "            print(\"A melhor aproximação para a raiz quadrada de\", n, \"é\", aprox,\".\")\n",
    "            return aprox\n",
    "        aprox = melhor\n",
    "        \n",
    "    \n",
    "#############################################################################################################################################\n",
    "\n",
    "\n",
    "#############################################################################################################################################"
   ]
  },
  {
   "cell_type": "code",
   "execution_count": 42,
   "metadata": {},
   "outputs": [
    {
     "name": "stdout",
     "output_type": "stream",
     "text": [
      "A melhor aproximação para a raiz quadrada de 50 é 7.072354906838855 .\n"
     ]
    },
    {
     "data": {
      "text/plain": [
       "7.072354906838855"
      ]
     },
     "execution_count": 42,
     "metadata": {},
     "output_type": "execute_result"
    }
   ],
   "source": [
    "raiz_quadrada(50,0.001)"
   ]
  },
  {
   "cell_type": "code",
   "execution_count": null,
   "metadata": {},
   "outputs": [],
   "source": []
  }
 ],
 "metadata": {
  "kernelspec": {
   "display_name": "Python 3",
   "language": "python",
   "name": "python3"
  },
  "language_info": {
   "codemirror_mode": {
    "name": "ipython",
    "version": 3
   },
   "file_extension": ".py",
   "mimetype": "text/x-python",
   "name": "python",
   "nbconvert_exporter": "python",
   "pygments_lexer": "ipython3",
   "version": "3.8.5"
  }
 },
 "nbformat": 4,
 "nbformat_minor": 4
}
