{
 "cells": [
  {
   "cell_type": "code",
   "execution_count": 7,
   "metadata": {},
   "outputs": [
    {
     "name": "stdout",
     "output_type": "stream",
     "text": [
      "Olá! Eu sou Leonardo! Digite a cor que deseja que eu apareça. \n",
      "\n",
      " Lista de cores: black, yellow, blue, gray, green, peach puff, HotPink\n"
     ]
    },
    {
     "name": "stdin",
     "output_type": "stream",
     "text": [
      "cor HotPink\n"
     ]
    },
    {
     "data": {
      "text/plain": [
       "turtle.Turtle"
      ]
     },
     "execution_count": 7,
     "metadata": {},
     "output_type": "execute_result"
    }
   ],
   "source": [
    "#############################################################################################################################################\n",
    "#############################################################################################################################################\n",
    "##################################### Autor: Alexandre de Resende Camara ####################################################################\n",
    "##################################### Data: 05/04/2021 ######################################################################################\n",
    "##################################### Nome: Aula 5, Exercício 2 #########################################################################\n",
    "#############################################################################################################################################\n",
    "# Modifique o programa da tartaruga (primeiro exemplo) para que, antes de criar a janela, ele solicite que o usuário insira a cor de fundo\n",
    "# desejada. Ele deve armazenar as respostas do usuário em uma variável e modificar a cor da janela de acordo com os desejos do usuário.\n",
    "#\n",
    "#############################################################################################################################################\n",
    "# INÍCIO DO CÓDIGO\n",
    "#############################################################################################################################################\n",
    "# \n",
    "import turtle   \n",
    "#############################################################################################################################################\n",
    "print(\"Olá! Eu sou Leonardo! Digite a cor que deseja que eu apareça. \")\n",
    "print()\n",
    "print(\" Lista de cores: black, yellow, blue, gray, green, peach puff, HotPink\")\n",
    "color = input(\"cor\")\n",
    "\n",
    "\n",
    "leonardo = turtle.Turtle() # Cria uma tartaruga, atribui a leonardo\n",
    "leonardo.shape(\"turtle\")   # formato de tartaruga.\n",
    "leonardo.color(color)\n",
    "\n",
    "leonardo.forward(300)\n",
    "leonardo.left(90)\n",
    "\n",
    "#############################################################################################################################################\n",
    "type(leonardo)\n",
    "#############################################################################################################################################\n",
    "# FIM DO CÓDIGO\n",
    "\n",
    "\n",
    "\n",
    "\n",
    "\n",
    "\n",
    "\n",
    "\n",
    "\n",
    "\n",
    "\n",
    "\n",
    "\n",
    "\n"
   ]
  },
  {
   "cell_type": "code",
   "execution_count": null,
   "metadata": {},
   "outputs": [],
   "source": []
  }
 ],
 "metadata": {
  "kernelspec": {
   "display_name": "Python 3",
   "language": "python",
   "name": "python3"
  },
  "language_info": {
   "codemirror_mode": {
    "name": "ipython",
    "version": 3
   },
   "file_extension": ".py",
   "mimetype": "text/x-python",
   "name": "python",
   "nbconvert_exporter": "python",
   "pygments_lexer": "ipython3",
   "version": "3.8.5"
  }
 },
 "nbformat": 4,
 "nbformat_minor": 4
}
