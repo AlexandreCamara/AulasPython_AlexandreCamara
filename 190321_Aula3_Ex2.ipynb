{
 "cells": [
  {
   "cell_type": "code",
   "execution_count": 24,
   "metadata": {},
   "outputs": [
    {
     "name": "stdout",
     "output_type": "stream",
     "text": [
      "Para o MRU:\n",
      "A velocidade média é 5.0 m/s\n",
      "\n",
      "Para o MRUA:\n",
      "A velocidade é 19.64 m/s\n"
     ]
    }
   ],
   "source": [
    "#############################################################################################################################################\n",
    "#############################################################################################################################################\n",
    "##################################### Autor: Alexandre de Resende Camara ####################################################################\n",
    "##################################### Data: 19/03/2021 ######################################################################################\n",
    "##################################### Nome: Aula 3, Ex 2 ####################################################################################\n",
    "#############################################################################################################################################\n",
    "# Crie uma função que calcule e imprima velocidade media de um objeto a partir de uma posição inicial, a final e o tempo transcorrido para um\n",
    "# objeto em MRU. Também crie uma funcão que calcule e imprima a velocidade de um objeto a partir da aceleração constante e o tempo (MRUA)\n",
    "# (p.ex. queda libre).\n",
    "#\n",
    "#############################################################################################################################################\n",
    "# INÍCIO DO CÓDIGO\n",
    "#############################################################################################################################################\n",
    "# Movimento Retilíneo Uniforme\n",
    "def MRU(delta_s, delta_t): \n",
    "    v_m = delta_s/delta_t #delta_s em metros, delta_t em segundos\n",
    "    print(\"Para o MRU:\")\n",
    "    print(\"A velocidade média é\", v_m, \"m/s\")\n",
    "#############################################################################################################################################\n",
    "# Movimento Retilíneo Uniformemente Variado\n",
    "def MRUA(v_0, delta_t): #v_0 em m/s , delta_t em segundos\n",
    "    g = 9.82 # aceleração da gravidade, em m/s^2\n",
    "    v = v_0 + g*delta_t # v em m/s\n",
    "    print(\"Para o MRUA:\")\n",
    "    print(\"A velocidade é\", v, \"m/s\")\n",
    "#############################################################################################################################################\n",
    "MRU(10.0, 2.0)\n",
    "print()\n",
    "MRUA(0.0, 2.0) #na queda livre, v_0 = 0.0\n",
    "#############################################################################################################################################\n",
    "# FIM DO CÓDIGO\n",
    "\n",
    "\n",
    "\n",
    "\n",
    "\n",
    "\n",
    "\n",
    "\n",
    "\n",
    "\n",
    "\n",
    "\n",
    "\n",
    "\n"
   ]
  },
  {
   "cell_type": "code",
   "execution_count": null,
   "metadata": {},
   "outputs": [],
   "source": []
  }
 ],
 "metadata": {
  "kernelspec": {
   "display_name": "Python 3",
   "language": "python",
   "name": "python3"
  },
  "language_info": {
   "codemirror_mode": {
    "name": "ipython",
    "version": 3
   },
   "file_extension": ".py",
   "mimetype": "text/x-python",
   "name": "python",
   "nbconvert_exporter": "python",
   "pygments_lexer": "ipython3",
   "version": "3.8.5"
  }
 },
 "nbformat": 4,
 "nbformat_minor": 4
}
